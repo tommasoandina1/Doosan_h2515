{
 "cells": [
  {
   "cell_type": "code",
   "execution_count": 21,
   "metadata": {},
   "outputs": [],
   "source": [
    "from adam.casadi.computations import KinDynComputations\n",
    "from adam.geometry import utils\n",
    "import numpy as np\n",
    "import casadi as cs\n",
    "import icub_models"
   ]
  },
  {
   "attachments": {},
   "cell_type": "markdown",
   "metadata": {},
   "source": [
    "## Import the robot .urdf"
   ]
  },
  {
   "cell_type": "code",
   "execution_count": 22,
   "metadata": {},
   "outputs": [],
   "source": [
    "# urdf_path = icub_models.get_model_file(\"h2515.blue\")\n",
    "urdf_path = \"/home/parallels/Desktop/adam-main/LINUX/h2515.blue.urdf\"\n",
    "\n",
    "# The joint list\n",
    "joints_name_list = [\n",
    "      'joint1', 'joint2', 'joint3', 'joint4', 'joint5', 'joint6' \n",
    "]\n",
    "# Specify the root link\n",
    "root_link = 'base'\n",
    "kinDyn = KinDynComputations(urdf_path, joints_name_list, root_link)"
   ]
  },
  {
   "attachments": {},
   "cell_type": "markdown",
   "metadata": {},
   "source": [
    "The class `KinDynComputations` contains some algorithms for computing kinematics and dynamics quantities."
   ]
  },
  {
   "cell_type": "code",
   "execution_count": 23,
   "metadata": {},
   "outputs": [],
   "source": [
    "# Set joints and base informations\n",
    "xyz = (np.random.rand(3) - 0.5) * 5\n",
    "rpy = (np.random.rand(3) - 0.5) * 5\n",
    "H_b = utils.H_from_Pos_RPY(xyz, rpy)\n",
    "v_b = (np.random.rand(6) - 0.5) * 5\n",
    "s = (np.random.rand(len(joints_name_list)) - 0.5) * 5\n",
    "s_dot = (np.random.rand(len(joints_name_list)) - 0.5) * 5"
   ]
  },
  {
   "attachments": {},
   "cell_type": "markdown",
   "metadata": {},
   "source": [
    "## Mass Matrix"
   ]
  },
  {
   "cell_type": "code",
   "execution_count": 30,
   "metadata": {},
   "outputs": [
    {
     "name": "stdout",
     "output_type": "stream",
     "text": [
      "Mass matrix:\n",
      " [[ 3.28620000e+01  3.55271368e-15 -9.43689571e-16 -8.88178420e-16\n",
      "   1.06802831e+01  1.70375097e+01 -8.50204870e+00  5.60808376e+00\n",
      "   3.71301721e+00  9.92637490e-01  1.50253977e+00  4.38442778e-03]\n",
      " [ 3.55271368e-15  3.28620000e+01  1.60982339e-15 -1.06802831e+01\n",
      "   0.00000000e+00 -2.20072620e+01  7.15369311e+00 -1.65937700e+01\n",
      "  -8.43513825e+00 -7.01750628e-02  2.88255655e-02 -3.66558730e-02]\n",
      " [-1.11022302e-15  1.22124533e-15  3.28620000e+01 -1.70375097e+01\n",
      "   2.20072620e+01  1.47104551e-15 -6.10733013e+00 -5.08749074e+00\n",
      "  -2.79806296e+00  4.09747404e+00 -3.51398291e-01  1.30358602e-02]\n",
      " [ 1.77635684e-15 -1.06802831e+01 -1.70375097e+01  2.24660606e+01\n",
      "  -1.46285832e+01  9.88005489e+00 -3.18582218e+00  1.35145396e+01\n",
      "   7.01427467e+00 -8.41901160e+00  3.01146577e-01 -5.02999746e-02]\n",
      " [ 1.06802831e+01  0.00000000e+00  2.20072620e+01 -1.46285832e+01\n",
      "   4.84854470e+01  7.23759606e+00 -2.81521075e+01 -7.07721741e+00\n",
      "  -4.66867427e+00  7.12853300e+00 -2.60637398e+00  1.94406614e-02]\n",
      " [ 1.70375097e+01 -2.20072620e+01 -1.85962357e-15  9.88005489e+00\n",
      "   7.23759606e+00  5.15275054e+01 -1.26910487e+01  4.03318068e+01\n",
      "   2.56708404e+01  1.92855679e+00  1.09927716e+00  7.15661279e-02]\n",
      " [-8.50204870e+00  7.15369311e+00 -6.10733013e+00 -3.18582218e+00\n",
      "  -2.81521075e+01 -1.26910487e+01  2.39274774e+01 -3.79638231e+00\n",
      "  -1.27855260e+00 -1.61318883e-01  1.79934792e+00  1.59217689e-02]\n",
      " [ 5.60808376e+00 -1.65937700e+01 -5.08749074e+00  1.35145396e+01\n",
      "  -7.07721741e+00  4.03318068e+01 -3.79638231e+00  3.75253551e+01\n",
      "   2.40003935e+01 -1.46707029e+00  1.25409112e+00  4.47809840e-02]\n",
      " [ 3.71301721e+00 -8.43513825e+00 -2.79806296e+00  7.01427467e+00\n",
      "  -4.66867427e+00  2.56708404e+01 -1.27855260e+00  2.40003935e+01\n",
      "   1.73028026e+01 -8.40100522e-01  1.22453390e+00  1.97688533e-02]\n",
      " [ 9.92637490e-01 -7.01750628e-02  4.09747404e+00 -8.41901160e+00\n",
      "   7.12853300e+00  1.92855679e+00 -1.61318883e-01 -1.46707029e+00\n",
      "  -8.40100522e-01  7.31344516e+00  3.33248533e-03  5.95882674e-02]\n",
      " [ 1.50253977e+00  2.88255655e-02 -3.51398291e-01  3.01146577e-01\n",
      "  -2.60637398e+00  1.09927716e+00  1.79934792e+00  1.25409112e+00\n",
      "   1.22453390e+00  3.33248533e-03  2.63120486e+00  9.31230306e-04]\n",
      " [ 4.38442778e-03 -3.66558730e-02  1.30358602e-02 -5.02999746e-02\n",
      "   1.94406614e-02  7.15661279e-02  1.59217689e-02  4.47809840e-02\n",
      "   1.97688533e-02  5.95882674e-02  9.31230306e-04  2.35887401e-03]]\n"
     ]
    }
   ],
   "source": [
    "\n",
    "#M = kinDyn.mass_matrix_fun()\n",
    "#print('Mass matrix:\\n', cs.DM(M(H_b, s)))\n",
    "\n",
    "\n",
    "M = kinDyn.mass_matrix_fun()\n",
    "M_array = np.array(cs.DM(M(H_b, s)))\n",
    "\n",
    "print('Mass matrix:\\n', M_array)"
   ]
  },
  {
   "attachments": {},
   "cell_type": "markdown",
   "metadata": {},
   "source": [
    "## Centroidal Momentum Matrix"
   ]
  },
  {
   "cell_type": "code",
   "execution_count": 25,
   "metadata": {},
   "outputs": [
    {
     "name": "stdout",
     "output_type": "stream",
     "text": [
      "Centroidal Momentum Matrix:\n",
      " \n",
      "[[32.862, 3.55271e-15, -9.4369e-16, -8.88178e-16, 10.6803, 17.0375, -8.50205, 5.60808, 3.71302, 0.992637, 1.50254, 0.00438443], \n",
      " [3.55271e-15, 32.862, 1.60982e-15, -10.6803, 0, -22.0073, 7.15369, -16.5938, -8.43514, -0.0701751, 0.0288256, -0.0366559], \n",
      " [-1.11022e-15, 1.22125e-15, 32.862, -17.0375, 22.0073, 1.47105e-15, -6.10733, -5.08749, -2.79806, 4.09747, -0.351398, 0.0130359], \n",
      " [-6.12837e-16, 1.0019e-15, 1.0341e-15, 10.1617, -3.21878, 2.72761, -4.02723, 5.48386, 2.82215, -6.31746, 0.12833, -0.0554548], \n",
      " [-7.23424e-16, -1.87183e-15, 1.39762e-15, -3.21878, 30.2763, 1.70034, -21.2989, -5.49284, -4.00159, 4.0619, -2.85938, 0.00928576], \n",
      " [8.25305e-15, -9.79842e-16, 1.2043e-15, 2.72761, 1.70034, 27.9563, -3.49237, 26.3116, 18.0969, 1.36692, 0.33958, 0.044745]]\n"
     ]
    }
   ],
   "source": [
    "Jcm = kinDyn.centroidal_momentum_matrix_fun()\n",
    "print('Centroidal Momentum Matrix:\\n', cs.DM(Jcm(H_b, s)))"
   ]
  },
  {
   "attachments": {},
   "cell_type": "markdown",
   "metadata": {},
   "source": [
    "## Center of mass position"
   ]
  },
  {
   "cell_type": "code",
   "execution_count": 26,
   "metadata": {},
   "outputs": [
    {
     "name": "stdout",
     "output_type": "stream",
     "text": [
      "Center of Mass position:\n",
      " [-0.553283, 0.0967482, -1.23314]\n"
     ]
    }
   ],
   "source": [
    "CoM = kinDyn.CoM_position_fun()\n",
    "print('Center of Mass position:\\n', cs.DM(CoM(H_b, s)))"
   ]
  },
  {
   "attachments": {},
   "cell_type": "markdown",
   "metadata": {},
   "source": [
    "## Total Mass"
   ]
  },
  {
   "cell_type": "code",
   "execution_count": 27,
   "metadata": {},
   "outputs": [
    {
     "name": "stdout",
     "output_type": "stream",
     "text": [
      "Total mass:\n",
      " 32.862\n"
     ]
    }
   ],
   "source": [
    "print('Total mass:\\n', kinDyn.get_total_mass())"
   ]
  },
  {
   "attachments": {},
   "cell_type": "markdown",
   "metadata": {},
   "source": [
    "## Jacobian"
   ]
  },
  {
   "cell_type": "code",
   "execution_count": 28,
   "metadata": {},
   "outputs": [
    {
     "ename": "ValueError",
     "evalue": "l_sole is not not in the robot model.",
     "output_type": "error",
     "traceback": [
      "\u001b[0;31m---------------------------------------------------------------------------\u001b[0m",
      "\u001b[0;31mValueError\u001b[0m                                Traceback (most recent call last)",
      "Cell \u001b[0;32mIn[28], line 1\u001b[0m\n\u001b[0;32m----> 1\u001b[0m J \u001b[38;5;241m=\u001b[39m \u001b[43mkinDyn\u001b[49m\u001b[38;5;241;43m.\u001b[39;49m\u001b[43mjacobian_fun\u001b[49m\u001b[43m(\u001b[49m\u001b[38;5;124;43m'\u001b[39;49m\u001b[38;5;124;43ml_sole\u001b[39;49m\u001b[38;5;124;43m'\u001b[39;49m\u001b[43m)\u001b[49m\n\u001b[1;32m      2\u001b[0m \u001b[38;5;28mprint\u001b[39m(\u001b[38;5;124m'\u001b[39m\u001b[38;5;124mJacobian of the left sole:\u001b[39m\u001b[38;5;130;01m\\n\u001b[39;00m\u001b[38;5;124m'\u001b[39m, cs\u001b[38;5;241m.\u001b[39mDM(J(H_b, s)))\n",
      "File \u001b[0;32m~/.local/lib/python3.10/site-packages/adam/casadi/computations.py:105\u001b[0m, in \u001b[0;36mjacobian_fun\u001b[0;34m(self, frame)\u001b[0m\n\u001b[1;32m    103\u001b[0m joint_positions = cs.SX.sym(\"s\", self.NDoF)\n\u001b[1;32m    104\u001b[0m base_transform = cs.SX.sym(\"H\", 4, 4)\n\u001b[0;32m--> 105\u001b[0m J_tot = self.rbdalgos.jacobian(frame, base_transform, joint_positions)\n\u001b[1;32m    106\u001b[0m return cs.Function(\n\u001b[1;32m    107\u001b[0m     \"J_tot\", [base_transform, joint_positions], [J_tot.array], self.f_opts\n",
      "File \u001b[0;32m~/.local/lib/python3.10/site-packages/adam/core/rbd_algorithms.py:186\u001b[0m, in \u001b[0;36mRBDAlgorithms.jacobian\u001b[0;34m(self, frame, base_transform, joint_positions)\u001b[0m\n\u001b[1;32m    182\u001b[0m \u001b[38;5;28;01mdef\u001b[39;00m \u001b[38;5;21mjacobian\u001b[39m(\n\u001b[1;32m    183\u001b[0m     \u001b[38;5;28mself\u001b[39m, frame: \u001b[38;5;28mstr\u001b[39m, base_transform: npt\u001b[38;5;241m.\u001b[39mArrayLike, joint_positions: npt\u001b[38;5;241m.\u001b[39mArrayLike\n\u001b[1;32m    184\u001b[0m ) \u001b[38;5;241m-\u001b[39m\u001b[38;5;241m>\u001b[39m npt\u001b[38;5;241m.\u001b[39mArrayLike:\n\u001b[1;32m    185\u001b[0m     eye \u001b[38;5;241m=\u001b[39m \u001b[38;5;28mself\u001b[39m\u001b[38;5;241m.\u001b[39mmath\u001b[38;5;241m.\u001b[39mfactory\u001b[38;5;241m.\u001b[39meye(\u001b[38;5;241m4\u001b[39m)\n\u001b[0;32m--> 186\u001b[0m     J \u001b[38;5;241m=\u001b[39m \u001b[38;5;28;43mself\u001b[39;49m\u001b[38;5;241;43m.\u001b[39;49m\u001b[43mjoints_jacobian\u001b[49m\u001b[43m(\u001b[49m\u001b[43mframe\u001b[49m\u001b[43m,\u001b[49m\u001b[43m \u001b[49m\u001b[43mjoint_positions\u001b[49m\u001b[43m)\u001b[49m\n\u001b[1;32m    187\u001b[0m     B_H_L \u001b[38;5;241m=\u001b[39m \u001b[38;5;28mself\u001b[39m\u001b[38;5;241m.\u001b[39mforward_kinematics(frame, eye, joint_positions)\n\u001b[1;32m    188\u001b[0m     L_X_B \u001b[38;5;241m=\u001b[39m \u001b[38;5;28mself\u001b[39m\u001b[38;5;241m.\u001b[39mmath\u001b[38;5;241m.\u001b[39madjoint_inverse(B_H_L)\n",
      "File \u001b[0;32m~/.local/lib/python3.10/site-packages/adam/core/rbd_algorithms.py:167\u001b[0m, in \u001b[0;36mRBDAlgorithms.joints_jacobian\u001b[0;34m(self, frame, joint_positions)\u001b[0m\n\u001b[1;32m    154\u001b[0m \u001b[38;5;28;01mdef\u001b[39;00m \u001b[38;5;21mjoints_jacobian\u001b[39m(\n\u001b[1;32m    155\u001b[0m     \u001b[38;5;28mself\u001b[39m, frame: \u001b[38;5;28mstr\u001b[39m, joint_positions: npt\u001b[38;5;241m.\u001b[39mArrayLike\n\u001b[1;32m    156\u001b[0m ) \u001b[38;5;241m-\u001b[39m\u001b[38;5;241m>\u001b[39m npt\u001b[38;5;241m.\u001b[39mArrayLike:\n\u001b[1;32m    157\u001b[0m \u001b[38;5;250m    \u001b[39m\u001b[38;5;124;03m\"\"\"Returns the Jacobian relative to the specified frame\u001b[39;00m\n\u001b[1;32m    158\u001b[0m \n\u001b[1;32m    159\u001b[0m \u001b[38;5;124;03m    Args:\u001b[39;00m\n\u001b[0;32m   (...)\u001b[0m\n\u001b[1;32m    165\u001b[0m \u001b[38;5;124;03m        J (npt.ArrayLike): The Joints Jacobian relative to the frame\u001b[39;00m\n\u001b[1;32m    166\u001b[0m \u001b[38;5;124;03m    \"\"\"\u001b[39;00m\n\u001b[0;32m--> 167\u001b[0m     chain \u001b[38;5;241m=\u001b[39m \u001b[38;5;28;43mself\u001b[39;49m\u001b[38;5;241;43m.\u001b[39;49m\u001b[43mmodel\u001b[49m\u001b[38;5;241;43m.\u001b[39;49m\u001b[43mget_joints_chain\u001b[49m\u001b[43m(\u001b[49m\u001b[38;5;28;43mself\u001b[39;49m\u001b[38;5;241;43m.\u001b[39;49m\u001b[43mroot_link\u001b[49m\u001b[43m,\u001b[49m\u001b[43m \u001b[49m\u001b[43mframe\u001b[49m\u001b[43m)\u001b[49m\n\u001b[1;32m    168\u001b[0m     eye \u001b[38;5;241m=\u001b[39m \u001b[38;5;28mself\u001b[39m\u001b[38;5;241m.\u001b[39mmath\u001b[38;5;241m.\u001b[39mfactory\u001b[38;5;241m.\u001b[39meye(\u001b[38;5;241m4\u001b[39m)\n\u001b[1;32m    169\u001b[0m     B_H_j \u001b[38;5;241m=\u001b[39m eye\n",
      "File \u001b[0;32m~/.local/lib/python3.10/site-packages/adam/model/model.py:91\u001b[0m, in \u001b[0;36mModel.get_joints_chain\u001b[0;34m(self, root, target)\u001b[0m\n\u001b[1;32m     80\u001b[0m \u001b[38;5;250m\u001b[39m\u001b[38;5;124;03m\"\"\"generate the joints chains from a link to a link\u001b[39;00m\n\u001b[1;32m     81\u001b[0m \n\u001b[1;32m     82\u001b[0m \u001b[38;5;124;03mArgs:\u001b[39;00m\n\u001b[0;32m   (...)\u001b[0m\n\u001b[1;32m     87\u001b[0m \u001b[38;5;124;03m    List[Joint]: the list of the joints\u001b[39;00m\n\u001b[1;32m     88\u001b[0m \u001b[38;5;124;03m\"\"\"\u001b[39;00m\n\u001b[1;32m     90\u001b[0m \u001b[38;5;28;01mif\u001b[39;00m target \u001b[38;5;129;01mnot\u001b[39;00m \u001b[38;5;129;01min\u001b[39;00m \u001b[38;5;28mlist\u001b[39m(\u001b[38;5;28mself\u001b[39m\u001b[38;5;241m.\u001b[39mlinks) \u001b[38;5;129;01mand\u001b[39;00m target \u001b[38;5;129;01mnot\u001b[39;00m \u001b[38;5;129;01min\u001b[39;00m \u001b[38;5;28mlist\u001b[39m(\u001b[38;5;28mself\u001b[39m\u001b[38;5;241m.\u001b[39mframes):\n\u001b[0;32m---> 91\u001b[0m     \u001b[38;5;28;01mraise\u001b[39;00m \u001b[38;5;167;01mValueError\u001b[39;00m(\u001b[38;5;124mf\u001b[39m\u001b[38;5;124m\"\u001b[39m\u001b[38;5;132;01m{\u001b[39;00mtarget\u001b[38;5;132;01m}\u001b[39;00m\u001b[38;5;124m is not not in the robot model.\u001b[39m\u001b[38;5;124m\"\u001b[39m)\n\u001b[1;32m     93\u001b[0m \u001b[38;5;28;01mif\u001b[39;00m target \u001b[38;5;241m==\u001b[39m root:\n\u001b[1;32m     94\u001b[0m     \u001b[38;5;28;01mreturn\u001b[39;00m []\n",
      "\u001b[0;31mValueError\u001b[0m: l_sole is not not in the robot model."
     ]
    }
   ],
   "source": [
    "J = kinDyn.jacobian_fun('l_sole')\n",
    "print('Jacobian of the left sole:\\n', cs.DM(J(H_b, s)))"
   ]
  },
  {
   "attachments": {},
   "cell_type": "markdown",
   "metadata": {},
   "source": [
    "## Relative jacobian"
   ]
  },
  {
   "cell_type": "code",
   "execution_count": null,
   "metadata": {},
   "outputs": [
    {
     "name": "stdout",
     "output_type": "stream",
     "text": [
      "Jacobian between the root link and left sole:\n",
      " \n",
      "[[0, 0, 0, 0, 0, 0, 0, 0, 0, 0, 0, 0.132385, -0.351245, -0.13373, 0.131421, -0.0251621, 0.0422307, 0, 0, 0, 0, 0, 0], \n",
      " [0, 0, 0, 0, 0, 0, 0, 0, 0, 0, 0, 0, -0.172247, 0.000274977, 0.178215, -0.0183536, -0.0461514, 0, 0, 0, 0, 0, 0], \n",
      " [0, 0, 0, 0, 0, 0, 0, 0, 0, 0, 0, 0.129741, 0.15563, -0.130728, -0.0716287, 0.01372, 0.015712, 0, 0, 0, 0, 0, 0], \n",
      " [0, 0, 0, 0, 0, 0, 0, 0, 0, 0, 0, -2.77556e-17, 0.405096, -0.00362731, -0.478906, 0.478906, 0.739351, 0, 0, 0, 0, 0, 0], \n",
      " [0, 0, 0, 0, 0, 0, 0, 0, 0, 0, 0, 1, -2.77556e-16, -0.999992, 0.00032625, -0.00032625, 0.539293, 0, 0, 0, 0, 0, 0], \n",
      " [0, 0, 0, 0, 0, 0, 0, 0, 0, 0, 0, 0, 0.914274, 0.00160719, -0.877866, 0.877866, -0.403141, 0, 0, 0, 0, 0, 0]]\n"
     ]
    }
   ],
   "source": [
    "J_r = kinDyn.relative_jacobian_fun('l_sole')\n",
    "print('Jacobian between the root link and left sole:\\n', cs.DM(J_r(s)))"
   ]
  },
  {
   "attachments": {},
   "cell_type": "markdown",
   "metadata": {},
   "source": [
    "## Forward kinematics"
   ]
  },
  {
   "cell_type": "code",
   "execution_count": null,
   "metadata": {},
   "outputs": [
    {
     "name": "stdout",
     "output_type": "stream",
     "text": [
      "Forward kinematics to the left sole:\n",
      " \n",
      "[[0.132165, -0.71729, 0.684126, 0.0984666], \n",
      " [0.462365, -0.565883, -0.682638, -0.796059], \n",
      " [0.876785, 0.406537, 0.256859, 2.20296], \n",
      " [0, 0, 0, 1]]\n"
     ]
    }
   ],
   "source": [
    "H = kinDyn.forward_kinematics_fun('l_sole')\n",
    "print('Forward kinematics to the left sole:\\n', cs.DM(H(H_b, s)))"
   ]
  },
  {
   "attachments": {},
   "cell_type": "markdown",
   "metadata": {},
   "source": [
    "## Bias force term"
   ]
  },
  {
   "cell_type": "code",
   "execution_count": null,
   "metadata": {},
   "outputs": [
    {
     "name": "stdout",
     "output_type": "stream",
     "text": [
      "Bias force term:\n",
      " [-59.6758, -29.5231, 327.205, 17.0073, -20.1869, 2.86386, 3.13975, -21.8289, -2.53765, -0.44605, 2.62855, 1.04581, 0.0920971, -2.38575, -1.27108, 0.457581, -0.204586, 1.61587, -13.0714, -1.64625, 3.026, -0.250252, 0.309739, 0.834412, 11.7632, -0.767052, -2.30078, -0.129059, 0.286435]\n"
     ]
    }
   ],
   "source": [
    "h = kinDyn.bias_force_fun()\n",
    "print('Bias force term:\\n', cs.DM(h(H_b, s, v_b, s_dot)))"
   ]
  },
  {
   "attachments": {},
   "cell_type": "markdown",
   "metadata": {},
   "source": [
    "## Coriolis term"
   ]
  },
  {
   "cell_type": "code",
   "execution_count": null,
   "metadata": {},
   "outputs": [
    {
     "name": "stdout",
     "output_type": "stream",
     "text": [
      "Coriolis force term:\n",
      " [-59.6758, -29.5231, 2.98119, -0.191316, 3.21847, 2.86386, -2.19443, 0.965587, -1.18644, 0.0247481, 0.534797, 0.295119, -0.147002, -0.146094, -0.0159875, 1.1535, -0.6971, 1.32786, -0.648563, -1.31466, 0.223614, -0.011621, 0.173244, -0.0608053, -1.47246, 0.0873437, 0.182273, -0.116167, -0.0105927]\n"
     ]
    }
   ],
   "source": [
    "C = kinDyn.coriolis_term_fun()\n",
    "print('Coriolis force term:\\n', cs.DM(C(H_b, s, v_b, s_dot)))"
   ]
  },
  {
   "attachments": {},
   "cell_type": "markdown",
   "metadata": {},
   "source": [
    "## Gravity term"
   ]
  },
  {
   "cell_type": "code",
   "execution_count": null,
   "metadata": {},
   "outputs": [
    {
     "name": "stdout",
     "output_type": "stream",
     "text": [
      "Gravity term:\n",
      " [-8.31537e-06, -4.78227e-06, 324.224, 17.1986, -23.4054, 1.26587e-06, 5.33418, -22.7945, -1.35121, -0.470798, 2.09375, 0.750691, 0.239099, -2.23966, -1.25509, -0.695921, 0.492514, 0.288, -12.4228, -0.331592, 2.80239, -0.238631, 0.136495, 0.895217, 13.2357, -0.854396, -2.48306, -0.012892, 0.297028]\n"
     ]
    }
   ],
   "source": [
    "G = kinDyn.gravity_term_fun()\n",
    "print('Gravity term:\\n', cs.DM(G(H_b, s)))"
   ]
  }
 ],
 "metadata": {
  "interpreter": {
   "hash": "9a1dc56e9f79f7f7ef72ef1e6fcad073aa2bd04b0bb433a6767f0e70fa990e2f"
  },
  "kernelspec": {
   "display_name": "Python 3.8.5 64-bit ('base': conda)",
   "language": "python",
   "name": "python3"
  },
  "language_info": {
   "codemirror_mode": {
    "name": "ipython",
    "version": 3
   },
   "file_extension": ".py",
   "mimetype": "text/x-python",
   "name": "python",
   "nbconvert_exporter": "python",
   "pygments_lexer": "ipython3",
   "version": "3.10.12"
  },
  "metadata": {
   "interpreter": {
    "hash": "1aaa65760776477b200513a4708dfe8112d71af684253b4518b287658553a52c"
   }
  },
  "orig_nbformat": 3
 },
 "nbformat": 4,
 "nbformat_minor": 2
}
