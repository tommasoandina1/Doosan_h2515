{
 "cells": [
  {
   "cell_type": "code",
   "execution_count": 17,
   "metadata": {},
   "outputs": [],
   "source": [
    "from adam.casadi import KinDynComputations\n",
    "import casadi as cs\n",
    "from math import sqrt\n",
    "import numpy as np"
   ]
  },
  {
   "cell_type": "code",
   "execution_count": 18,
   "metadata": {},
   "outputs": [],
   "source": [
    "model_path = \"/Users/tommasoandina/Documents/Doosan_h2515-1/h2515.blue.urdf\" \n",
    "joints_name_list = 'joint1', 'joint2', 'joint3', 'joint4', 'joint5', 'joint6' \n",
    "root_link = 'base'\n",
    "\n",
    "kinDyn = KinDynComputations(model_path, joints_name_list, root_link)\n",
    "num_dof = kinDyn.NDoF"
   ]
  },
  {
   "cell_type": "code",
   "execution_count": 19,
   "metadata": {},
   "outputs": [],
   "source": [
    "H = cs.SX.sym('H', 4, 4)\n",
    "# The joint values\n",
    "s = cs.SX.sym('s', num_dof)\n",
    "# The base velocity\n",
    "v_b = cs.SX.sym('v_b', 6)\n",
    "# The joints velocity\n",
    "s_dot = cs.SX.sym('s_dot', num_dof)\n",
    "# The base acceleration\n",
    "v_b_dot = cs.SX.sym('v_b_dot', 6)\n",
    "# The joints acceleration\n",
    "s_ddot = cs.SX.sym('s_ddot', num_dof)\n",
    "\n",
    "# initialize\n",
    "mass_matrix_fun = kinDyn.mass_matrix_fun()\n",
    "coriolis_term_fun = kinDyn.coriolis_term_fun()\n",
    "gravity_term_fun =  kinDyn.gravity_term_fun()\n",
    "bias_force_fun = kinDyn.bias_force_fun()\n",
    "Jacobian_fun = kinDyn.jacobian_fun(\"link6\")\n"
   ]
  },
  {
   "cell_type": "code",
   "execution_count": 20,
   "metadata": {},
   "outputs": [
    {
     "name": "stdout",
     "output_type": "stream",
     "text": [
      "Mass matrix:\n",
      " \n",
      "[[nan, nan, nan, nan, nan, nan, nan, nan, nan, nan, nan, nan], \n",
      " [nan, nan, nan, nan, nan, nan, nan, nan, nan, nan, nan, nan], \n",
      " [nan, nan, nan, nan, nan, nan, nan, nan, nan, nan, nan, nan], \n",
      " [nan, nan, nan, nan, nan, nan, nan, nan, nan, nan, nan, nan], \n",
      " [nan, nan, nan, nan, nan, nan, nan, nan, nan, nan, nan, nan], \n",
      " [nan, nan, nan, nan, nan, nan, nan, nan, nan, nan, nan, nan], \n",
      " [nan, nan, nan, nan, nan, nan, nan, nan, nan, nan, nan, nan], \n",
      " [nan, nan, nan, nan, nan, nan, nan, nan, nan, nan, nan, nan], \n",
      " [nan, nan, nan, nan, nan, nan, nan, nan, nan, nan, nan, nan], \n",
      " [nan, nan, nan, nan, nan, nan, nan, nan, nan, nan, nan, nan], \n",
      " [nan, nan, nan, nan, nan, nan, nan, nan, nan, nan, nan, nan], \n",
      " [nan, nan, nan, nan, nan, nan, nan, nan, nan, nan, nan, 0.00235887]]\n"
     ]
    }
   ],
   "source": [
    "M = kinDyn.mass_matrix_fun()\n",
    "#M = M[:6, :6]\n",
    "print('Mass matrix:\\n', cs.DM(M(H, s)))"
   ]
  },
  {
   "cell_type": "code",
   "execution_count": 16,
   "metadata": {},
   "outputs": [
    {
     "name": "stdout",
     "output_type": "stream",
     "text": [
      "Bias force term:\n",
      " [nan, nan, nan, nan, nan, nan, nan, nan, nan, nan, nan, nan]\n"
     ]
    }
   ],
   "source": [
    "h = kinDyn.bias_force_fun()\n",
    "print('Bias force term:\\n', cs.DM(h(H, s, v_b, s_dot)))"
   ]
  }
 ],
 "metadata": {
  "kernelspec": {
   "display_name": "Python 3",
   "language": "python",
   "name": "python3"
  },
  "language_info": {
   "codemirror_mode": {
    "name": "ipython",
    "version": 3
   },
   "file_extension": ".py",
   "mimetype": "text/x-python",
   "name": "python",
   "nbconvert_exporter": "python",
   "pygments_lexer": "ipython3",
   "version": "3.9.6"
  }
 },
 "nbformat": 4,
 "nbformat_minor": 2
}
