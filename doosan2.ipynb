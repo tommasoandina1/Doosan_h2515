{
 "cells": [
  {
   "cell_type": "code",
   "execution_count": 170,
   "metadata": {},
   "outputs": [],
   "source": [
    "from adam.casadi.computations import KinDynComputations\n",
    "from adam.geometry import utils\n",
    "import numpy as np\n",
    "import casadi as cs\n",
    "#import icub_models\n",
    "from math import sqrt"
   ]
  },
  {
   "cell_type": "code",
   "execution_count": 171,
   "metadata": {},
   "outputs": [],
   "source": [
    "urdf_path =  \"/Users/tommasoandina/Desktop/doosan-robot2-master/dsr_description2/urdf/h2515.blue.urdf\" \n",
    "# The joint list\n",
    "joints_name_list = ['joint1', 'joint2', 'joint3', 'joint4', 'joint5', 'joint6']\n",
    "# Specify the root link\n",
    "root_link = 'base'\n",
    "\n",
    "kinDyn = KinDynComputations(urdf_path, joints_name_list, root_link)\n",
    "num_dof = kinDyn.NDoF"
   ]
  },
  {
   "cell_type": "code",
   "execution_count": 172,
   "metadata": {},
   "outputs": [],
   "source": [
    "H = cs.SX.sym('H', 4, 4)\n",
    "# The joint values\n",
    "s = cs.SX.sym('s', num_dof)\n",
    "# The base velocity\n",
    "v_b = cs.SX.sym('v_b', 6)\n",
    "# The joints velocity\n",
    "s_dot = cs.SX.sym('s_dot', num_dof)\n",
    "# The base acceleration\n",
    "v_b_dot = cs.SX.sym('v_b_dot', 6)\n",
    "# The joints acceleration\n",
    "s_ddot = cs.SX.sym('s_ddot', num_dof)\n",
    "\n",
    "# initialize\n",
    "mass_matrix_fun = kinDyn.mass_matrix_fun()\n",
    "coriolis_term_fun = kinDyn.coriolis_term_fun()\n",
    "gravity_term_fun = kinDyn.gravity_term_fun()\n",
    "bias_force_fun = kinDyn.bias_force_fun()\n",
    "Jacobian_fun = kinDyn.jacobian_fun(\"link6\")"
   ]
  },
  {
   "cell_type": "code",
   "execution_count": 173,
   "metadata": {},
   "outputs": [],
   "source": [
    "class Controller:\n",
    "    def __init__(self, kp, kd, dt, q_des):\n",
    "        self.q_previous = 0.0\n",
    "        self.kp = kp\n",
    "        self.kd = kd\n",
    "        self.dt = dt\n",
    "        self.q_des = q_des\n",
    "        self.first_iter = True\n",
    "\n",
    "    def control(self, q, dq):\n",
    "        if self.first_iter:\n",
    "            self.q_previous = q\n",
    "            self.first_iter = False\n",
    "\n",
    "        self.q_previous = q\n",
    "        return self.kp * (self.q_des - q) - self.kd * dq\n",
    "\n",
    "\n",
    "   \n",
    "class Simulator:\n",
    "    def __init__(self, q, dt, dq, ddq):\n",
    "        self.q = q\n",
    "        self.dt = dt\n",
    "        self.dq = dq\n",
    "        self.ddq = ddq\n",
    "\n",
    "    def simulate_q(self, tau, h2):\n",
    "        dq = self.simulate_dq(tau, h2)\n",
    "        self.q += self.dt * dq\n",
    "        return self.q\n",
    "    \n",
    "    def simulate_dq(self, tau, h2):\n",
    "        self.ddq = cs.inv(M2) @ (tau - h2)\n",
    "        self.dq += self.dt * self.ddq\n",
    "        return self.dq\n",
    "    \n",
    "    def simulate_ddq(self, M2, tau, h2):\n",
    "        self.ddq = cs.inv(M2) @ (tau - h2)\n",
    "        return self.ddq\n"
   ]
  },
  {
   "cell_type": "code",
   "execution_count": 174,
   "metadata": {},
   "outputs": [
    {
     "name": "stdout",
     "output_type": "stream",
     "text": [
      "Mass Matrix \n",
      "[[32.862, -5.32907e-15, 1.11022e-15, -2.22045e-16, 3.3726, -18.9598], \n",
      " [-7.10543e-15, 32.862, 9.99201e-16, -3.3726, 8.88178e-16, 14.1678], \n",
      " [8.88178e-16, 1.22125e-15, 32.862, 18.9598, -14.1678, 1.16573e-15], \n",
      " [-1.11022e-15, -3.3726, 18.9598, 23.6431, -11.7508, 6.00418], \n",
      " [3.3726, -6.66134e-16, -14.1678, -11.7508, 35.8578, -3.64687], \n",
      " [-18.9598, 14.1678, 1.88738e-15, 6.00418, -3.64687, 43.3522]]\n",
      "bias force [-255.581, -124.243, 348.002, 238.199, -43.3115, 103.505]\n",
      "[-1.94503647 -0.37723529  0.70408022  2.31607551  2.18497936 -0.05790305]\n"
     ]
    }
   ],
   "source": [
    "#Valori randomici\n",
    "q_des = (np.random.rand(num_dof) - 0.5) * 5\n",
    "xyz = (np.random.rand(3) - 0.5) * 5\n",
    "rpy = (np.random.rand(3) - 0.5) * 5\n",
    "H_b = utils.H_from_Pos_RPY(xyz, rpy)\n",
    "v_b = (np.random.rand(6) - 0.5) * 5\n",
    "s = (np.random.rand(len(joints_name_list)) - 0.5) * 5\n",
    "s_dot = (np.random.rand(len(joints_name_list)) - 0.5) * 5\n",
    "\n",
    "\n",
    "\n",
    "\n",
    "\n",
    "M = kinDyn.mass_matrix_fun()\n",
    "M2 = cs.DM(M(H_b, s))\n",
    "M2 = M2[:6, :6]\n",
    "print('Mass Matrix', M2)\n",
    "\n",
    "h = kinDyn.bias_force_fun()\n",
    "h2 = cs.DM(h(H_b, s, v_b, s_dot))\n",
    "\n",
    "\n",
    "h2 = h2[:6]\n",
    "print('bias force', h2)\n",
    "\n",
    "q = np.zeros(num_dof)\n",
    "#q_0 = cs.SX.sym('q_0', num_dof)\n",
    "kp = 0.1 \n",
    "kd = 2*sqrt(kp)\n",
    "dt = 1.0 / 16.0 * 1e-3\n",
    "total_time = 2.0 * 1e-3\n",
    "\n",
    "#dq = cs.SX.sym('dq', num_dof)\n",
    "#ddq = cs.SX.sym('ddq', num_dof)\n",
    "\n",
    "dq = np.zeros(num_dof)\n",
    "ddq = np.zeros(num_dof)\n",
    "\n",
    "\n",
    "N = int(total_time / dt)\n",
    "\n",
    "ctrl = Controller(kp, kd, dt, q_des)\n",
    "simu = Simulator(q, dt, dq, ddq)\n",
    "\n",
    "q_des_np = cs.DM(q_des).full().flatten()\n",
    "print(q_des_np)"
   ]
  },
  {
   "cell_type": "code",
   "execution_count": 175,
   "metadata": {},
   "outputs": [
    {
     "name": "stdout",
     "output_type": "stream",
     "text": [
      "[-1.94503647 -0.37723529  0.70408022  2.31607551  2.18497936 -0.05790305]\n",
      "[ 3.38840311e-05  1.30571225e-05 -4.25213787e-05 -1.44442873e-05\n",
      " -1.97282962e-05  1.34199442e-06]\n",
      "Errore medio all'infinito: 2.3160899587456205\n"
     ]
    }
   ],
   "source": [
    "for i in range(N):\n",
    "    tau = ctrl.control(simu.q, simu.dq)\n",
    "    simu.simulate_q(tau, h2)\n",
    "    simu.simulate_dq(tau, h2)\n",
    "    simu.simulate_ddq(M2, tau, h2)\n",
    "   \n",
    "    \n",
    "q_des_np = cs.DM(q_des).full().flatten()\n",
    "simu_q_np = cs.DM(simu.q).full().flatten()\n",
    "\n",
    "# Calcola l'errore medio all'infinito tra i vettori NumPy\n",
    "errore_medio_infinito = np.max(np.abs(q_des_np - simu_q_np))\n",
    "\n",
    "print(q_des_np)\n",
    "print(simu_q_np)\n",
    "\n",
    "\n",
    "print(\"Errore medio all'infinito:\", errore_medio_infinito)"
   ]
  }
 ],
 "metadata": {
  "kernelspec": {
   "display_name": "Python 3",
   "language": "python",
   "name": "python3"
  },
  "language_info": {
   "codemirror_mode": {
    "name": "ipython",
    "version": 3
   },
   "file_extension": ".py",
   "mimetype": "text/x-python",
   "name": "python",
   "nbconvert_exporter": "python",
   "pygments_lexer": "ipython3",
   "version": "3.9.6"
  }
 },
 "nbformat": 4,
 "nbformat_minor": 2
}
