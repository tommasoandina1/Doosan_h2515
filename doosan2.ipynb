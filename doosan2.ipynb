{
 "cells": [
  {
   "cell_type": "code",
   "execution_count": 50,
   "metadata": {},
   "outputs": [],
   "source": [
    "from adam.casadi.computations import KinDynComputations\n",
    "from adam.geometry import utils\n",
    "import numpy as np\n",
    "import casadi as cs\n",
    "#import icub_models\n",
    "from math import sqrt"
   ]
  },
  {
   "cell_type": "code",
   "execution_count": 51,
   "metadata": {},
   "outputs": [],
   "source": [
    "urdf_path =  \"/Users/tommasoandina/Desktop/doosan-robot2-master/dsr_description2/urdf/h2515.blue.urdf\" \n",
    "# The joint list\n",
    "joints_name_list = ['joint1', 'joint2', 'joint3', 'joint4', 'joint5', 'joint6']\n",
    "# Specify the root link\n",
    "root_link = 'base'\n",
    "\n",
    "kinDyn = KinDynComputations(urdf_path, joints_name_list, root_link)\n",
    "num_dof = kinDyn.NDoF"
   ]
  },
  {
   "cell_type": "code",
   "execution_count": 52,
   "metadata": {},
   "outputs": [],
   "source": [
    "H = cs.SX.sym('H', 4, 4)\n",
    "# The joint values\n",
    "s = cs.SX.sym('s', num_dof)\n",
    "# The base velocity\n",
    "v_b = cs.SX.sym('v_b', 6)\n",
    "# The joints velocity\n",
    "s_dot = cs.SX.sym('s_dot', num_dof)\n",
    "# The base acceleration\n",
    "v_b_dot = cs.SX.sym('v_b_dot', 6)\n",
    "# The joints acceleration\n",
    "s_ddot = cs.SX.sym('s_ddot', num_dof)\n",
    "\n",
    "# initialize\n",
    "mass_matrix_fun = kinDyn.mass_matrix_fun()\n",
    "coriolis_term_fun = kinDyn.coriolis_term_fun()\n",
    "gravity_term_fun = kinDyn.gravity_term_fun()\n",
    "bias_force_fun = kinDyn.bias_force_fun()\n",
    "Jacobian_fun = kinDyn.jacobian_fun(\"link6\")"
   ]
  },
  {
   "cell_type": "code",
   "execution_count": 53,
   "metadata": {},
   "outputs": [],
   "source": [
    "class Controller:\n",
    "    def __init__(self, kp, kd, dt, q_des):\n",
    "        self.q_previous = 0.0\n",
    "        self.kp = kp\n",
    "        self.kd = kd\n",
    "        self.dt = dt\n",
    "        self.q_des = q_des\n",
    "        self.first_iter = True\n",
    "\n",
    "    def control(self, q, dq):\n",
    "        if self.first_iter:\n",
    "            self.q_previous = q\n",
    "            self.first_iter = False\n",
    "\n",
    "        self.q_previous = q\n",
    "        return self.kp * (self.q_des - q) - self.kd * dq\n",
    "\n",
    "\n",
    "   \n",
    "class Simulator:\n",
    "    def __init__(self, q, dt, dq, ddq):\n",
    "        self.q = q\n",
    "        self.dt = dt\n",
    "        self.dq = dq\n",
    "        self.ddq = ddq\n",
    "\n",
    "    def simulate_q(self, tau, h2):\n",
    "        dq = self.simulate_dq(tau, h2)\n",
    "        self.q += self.dt * dq\n",
    "        return self.q\n",
    "    \n",
    "    def simulate_dq(self, tau, h2):\n",
    "        self.ddq = cs.inv(M2) @ (tau - h2)\n",
    "        self.dq += self.dt * self.ddq\n",
    "        return self.dq\n",
    "    \n",
    "    def simulate_ddq(self, M2, tau, h2):\n",
    "        self.ddq = cs.inv(M2) @ (tau - h2)\n",
    "        return self.ddq\n"
   ]
  },
  {
   "cell_type": "code",
   "execution_count": 54,
   "metadata": {},
   "outputs": [
    {
     "name": "stdout",
     "output_type": "stream",
     "text": [
      "[-1.36177949 -2.26809435  0.13076905 -2.48810786  0.4902176  -2.43969565]\n"
     ]
    }
   ],
   "source": [
    "#Valori randomici\n",
    "q_des = (np.random.rand(num_dof) - 0.5) * 5\n",
    "xyz = (np.random.rand(3) - 0.5) * 5\n",
    "rpy = (np.random.rand(3) - 0.5) * 5\n",
    "H_b = utils.H_from_Pos_RPY(xyz, rpy)\n",
    "v_b = (np.random.rand(6) - 0.5) * 5\n",
    "s = (np.random.rand(len(joints_name_list)) - 0.5) * 5\n",
    "s_dot = (np.random.rand(len(joints_name_list)) - 0.5) * 5\n",
    "\n",
    "\n",
    "\n",
    "\n",
    "\n",
    "M = kinDyn.mass_matrix_fun()\n",
    "M2 = cs.DM(M(H_b, s))\n",
    "M2 = M2[:6, :6]\n",
    "\n",
    "h = kinDyn.bias_force_fun()\n",
    "h2 = cs.DM(h(H_b, s, v_b, s_dot))\n",
    "h2 = h2[:6]\n",
    "\n",
    "\n",
    "q = np.zeros(num_dof)\n",
    "#q_0 = cs.SX.sym('q_0', num_dof)\n",
    "kp = 0.1 \n",
    "kd = sqrt(kp)\n",
    "dt = 1.0 / 16.0 * 1e-3\n",
    "total_time = 2.0 * 1e-3\n",
    "\n",
    "#dq = cs.SX.sym('dq', num_dof)\n",
    "#ddq = cs.SX.sym('ddq', num_dof)\n",
    "\n",
    "dq = np.zeros(num_dof)\n",
    "ddq = np.zeros(num_dof)\n",
    "\n",
    "\n",
    "N = int(total_time / dt)\n",
    "\n",
    "ctrl = Controller(kp, kd, dt, q_des)\n",
    "simu = Simulator(q, dt, dq, ddq)\n",
    "\n",
    "q_des_np = cs.DM(q_des).full().flatten()\n",
    "print(q_des_np)"
   ]
  },
  {
   "cell_type": "code",
   "execution_count": 55,
   "metadata": {},
   "outputs": [
    {
     "name": "stdout",
     "output_type": "stream",
     "text": [
      "[-1.36177949 -2.26809435  0.13076905 -2.48810786  0.4902176  -2.43969565]\n",
      "Errore medio all'infinito: 2.4881127736837167\n"
     ]
    }
   ],
   "source": [
    "for i in range(N):\n",
    "    tau = ctrl.control(simu.q, simu.dq)\n",
    "    simu.simulate_q(tau, h2)\n",
    "    simu.simulate_dq(tau, h2)\n",
    "    simu.simulate_ddq(M2, tau, h2)\n",
    "    simu_q_np = cs.DM(simu.q).full().flatten()\n",
    "    print(simu_q_np)\n",
    "    \n",
    "\n",
    "\n",
    "q_des_np = cs.DM(q_des).full().flatten()\n",
    "simu_q_np = cs.DM(simu.q).full().flatten()\n",
    "\n",
    "# Calcola l'errore medio all'infinito tra i vettori NumPy\n",
    "errore_medio_infinito = np.max(np.abs(q_des_np - simu_q_np))\n",
    "\n",
    "print(q_des_np)\n",
    "\n",
    "\n",
    "print(\"Errore medio all'infinito:\", errore_medio_infinito)"
   ]
  }
 ],
 "metadata": {
  "kernelspec": {
   "display_name": "Python 3",
   "language": "python",
   "name": "python3"
  },
  "language_info": {
   "codemirror_mode": {
    "name": "ipython",
    "version": 3
   },
   "file_extension": ".py",
   "mimetype": "text/x-python",
   "name": "python",
   "nbconvert_exporter": "python",
   "pygments_lexer": "ipython3",
   "version": "3.9.6"
  }
 },
 "nbformat": 4,
 "nbformat_minor": 2
}
